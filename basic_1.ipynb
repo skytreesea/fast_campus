{
  "nbformat": 4,
  "nbformat_minor": 0,
  "metadata": {
    "colab": {
      "name": "basic-1.ipynb",
      "provenance": [],
      "collapsed_sections": [],
      "authorship_tag": "ABX9TyNKEGqNwetZ9BAuPjmKSjm7",
      "include_colab_link": true
    },
    "kernelspec": {
      "name": "python3",
      "display_name": "Python 3"
    }
  },
  "cells": [
    {
      "cell_type": "markdown",
      "metadata": {
        "id": "view-in-github",
        "colab_type": "text"
      },
      "source": [
        "<a href=\"https://colab.research.google.com/github/skytreesea/fast_campus/blob/master/basic_1.ipynb\" target=\"_parent\"><img src=\"https://colab.research.google.com/assets/colab-badge.svg\" alt=\"Open In Colab\"/></a>"
      ]
    },
    {
      "cell_type": "code",
      "metadata": {
        "colab": {
          "base_uri": "https://localhost:8080/"
        },
        "id": "g8RsuLrOV5-n",
        "outputId": "d71267a1-3374-458c-d9cd-e92b467ca841"
      },
      "source": [
        "print('Hello world!')\r\n",
        "print('I am %s years old.'%30)\r\n"
      ],
      "execution_count": 3,
      "outputs": [
        {
          "output_type": "stream",
          "text": [
            "Hello world!\n",
            "I am 30 years old.\n"
          ],
          "name": "stdout"
        }
      ]
    },
    {
      "cell_type": "code",
      "metadata": {
        "colab": {
          "base_uri": "https://localhost:8080/"
        },
        "id": "u4fvha1rV7Ur",
        "outputId": "b39ef4cd-0f90-4725-d1cd-2e6a2330bd9e"
      },
      "source": [
        "import requests\r\n",
        "from bs4 import BeautifulSoup as bs\r\n",
        "url = 'https://www.google.com/'\r\n",
        "soup = bs(requests.get(url).text, 'html.parser')\r\n",
        "soup.find_all('a')\r\n"
      ],
      "execution_count": 10,
      "outputs": [
        {
          "output_type": "execute_result",
          "data": {
            "text/plain": [
              "[<a class=\"gb1\" href=\"https://www.google.com/imghp?hl=en&amp;tab=wi\">Images</a>,\n",
              " <a class=\"gb1\" href=\"https://maps.google.com/maps?hl=en&amp;tab=wl\">Maps</a>,\n",
              " <a class=\"gb1\" href=\"https://play.google.com/?hl=en&amp;tab=w8\">Play</a>,\n",
              " <a class=\"gb1\" href=\"https://www.youtube.com/?gl=US&amp;tab=w1\">YouTube</a>,\n",
              " <a class=\"gb1\" href=\"https://news.google.com/?tab=wn\">News</a>,\n",
              " <a class=\"gb1\" href=\"https://mail.google.com/mail/?tab=wm\">Gmail</a>,\n",
              " <a class=\"gb1\" href=\"https://drive.google.com/?tab=wo\">Drive</a>,\n",
              " <a class=\"gb1\" href=\"https://www.google.com/intl/en/about/products?tab=wh\" style=\"text-decoration:none\"><u>More</u> »</a>,\n",
              " <a class=\"gb4\" href=\"http://www.google.com/history/optout?hl=en\">Web History</a>,\n",
              " <a class=\"gb4\" href=\"/preferences?hl=en\">Settings</a>,\n",
              " <a class=\"gb4\" href=\"https://accounts.google.com/ServiceLogin?hl=en&amp;passive=true&amp;continue=https://www.google.com/&amp;ec=GAZAAQ\" id=\"gb_70\" target=\"_top\">Sign in</a>,\n",
              " <a href=\"/search?ie=UTF-8&amp;q=January+1+New+Year%27s+Day&amp;oi=ddle&amp;ct=166155174&amp;hl=en&amp;sa=X&amp;ved=0ahUKEwjzp_vIgfrtAhULqpQKHW-jArIQPQgD\"><img alt=\"New Year's Day 2021\" border=\"0\" height=\"200\" id=\"hplogo\" src=\"/logos/doodles/2021/new-years-day-2021-6753651837108820-law.gif\" title=\"New Year's Day 2021\" width=\"500\"/><br/></a>,\n",
              " <a href=\"/advanced_search?hl=en&amp;authuser=0\">Advanced search</a>,\n",
              " <a class=\"NKcBbd\" href=\"https://www.google.com/url?q=https://youtu.be/OK_ChvMo1BQ&amp;source=hpp&amp;id=19022294&amp;ct=3&amp;usg=AFQjCNG0VrvmuZ-YqKDpbOs6GApmVwDySw&amp;sa=X&amp;ved=0ahUKEwjzp_vIgfrtAhULqpQKHW-jArIQ8IcBCAU\" rel=\"nofollow\">Join YouTube's New Year's Eve party</a>,\n",
              " <a href=\"/intl/en/ads/\">Advertising Programs</a>,\n",
              " <a href=\"/services/\">Business Solutions</a>,\n",
              " <a href=\"/intl/en/about.html\">About Google</a>,\n",
              " <a href=\"/intl/en/policies/privacy/\">Privacy</a>,\n",
              " <a href=\"/intl/en/policies/terms/\">Terms</a>]"
            ]
          },
          "metadata": {
            "tags": []
          },
          "execution_count": 10
        }
      ]
    }
  ]
}