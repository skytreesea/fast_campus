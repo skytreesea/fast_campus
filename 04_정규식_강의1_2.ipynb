{
  "nbformat": 4,
  "nbformat_minor": 0,
  "metadata": {
    "colab": {
      "name": "04 정규식 강의1-2.ipynb",
      "provenance": [],
      "collapsed_sections": [],
      "authorship_tag": "ABX9TyNM5cLZX9aWRV/8CX/ayMLc",
      "include_colab_link": true
    },
    "kernelspec": {
      "name": "python3",
      "display_name": "Python 3"
    }
  },
  "cells": [
    {
      "cell_type": "markdown",
      "metadata": {
        "id": "view-in-github",
        "colab_type": "text"
      },
      "source": [
        "<a href=\"https://colab.research.google.com/github/skytreesea/fast_campus/blob/master/04_%EC%A0%95%EA%B7%9C%EC%8B%9D_%EA%B0%95%EC%9D%981_2.ipynb\" target=\"_parent\"><img src=\"https://colab.research.google.com/assets/colab-badge.svg\" alt=\"Open In Colab\"/></a>"
      ]
    },
    {
      "cell_type": "code",
      "metadata": {
        "colab": {
          "base_uri": "https://localhost:8080/",
          "height": 35
        },
        "id": "zvIC4Vx3MB_7",
        "outputId": "fcf38d2e-911f-4371-ac50-f8656cae09fe"
      },
      "source": [
        "import re\n",
        "\n",
        "variables = '02-1123-2235, 012-1222-5566, upan@upan.com, idontknow@upan.com, (121212-2233445) (231211-4212345)'\n",
        "\n",
        "# 찾아야 할 패턴, 찾아야 할 문자열\n",
        "re.search('학교', sentence).group()\n"
      ],
      "execution_count": null,
      "outputs": [
        {
          "output_type": "execute_result",
          "data": {
            "application/vnd.google.colaboratory.intrinsic+json": {
              "type": "string"
            },
            "text/plain": [
              "'학교'"
            ]
          },
          "metadata": {
            "tags": []
          },
          "execution_count": 38
        }
      ]
    },
    {
      "cell_type": "code",
      "metadata": {
        "colab": {
          "base_uri": "https://localhost:8080/"
        },
        "id": "eLB6cD3kUPvA",
        "outputId": "bc4075e7-f631-429c-b8ef-04c50d17127c"
      },
      "source": [
        "re.findall('\\d시',sentence)"
      ],
      "execution_count": null,
      "outputs": [
        {
          "output_type": "execute_result",
          "data": {
            "text/plain": [
              "['8시', '9시', '9시']"
            ]
          },
          "metadata": {
            "tags": []
          },
          "execution_count": 39
        }
      ]
    },
    {
      "cell_type": "code",
      "metadata": {
        "colab": {
          "base_uri": "https://localhost:8080/"
        },
        "id": "3vusbliJVNxk",
        "outputId": "a5792c9c-21ff-41dc-f31a-41c584c7e7fa"
      },
      "source": [
        "re.findall('학교에',sentence)"
      ],
      "execution_count": null,
      "outputs": [
        {
          "output_type": "execute_result",
          "data": {
            "text/plain": [
              "['학교에', '학교에']"
            ]
          },
          "metadata": {
            "tags": []
          },
          "execution_count": 40
        }
      ]
    },
    {
      "cell_type": "code",
      "metadata": {
        "colab": {
          "base_uri": "https://localhost:8080/"
        },
        "id": "pHywjfuxVWwF",
        "outputId": "4a2a6fd1-49dd-4ba1-cb2f-69db595eb956"
      },
      "source": [
        "re.findall('[a-z]{5}', 'caaat')"
      ],
      "execution_count": null,
      "outputs": [
        {
          "output_type": "execute_result",
          "data": {
            "text/plain": [
              "['caaat']"
            ]
          },
          "metadata": {
            "tags": []
          },
          "execution_count": 48
        }
      ]
    },
    {
      "cell_type": "code",
      "metadata": {
        "colab": {
          "base_uri": "https://localhost:8080/"
        },
        "id": "bQj9BgCPWWyp",
        "outputId": "68e1bde4-ad66-4cb7-88e8-6ac448a38bb5"
      },
      "source": [
        "names ='Jane, Smith, Chritopher'\n",
        "re.findall('[A-Z][a-z]*',names)\n",
        "#전화번호\n",
        "re.findall('\\d*-\\d*-\\d*', variables)\n",
        "# 가상의 주민번호 \n",
        "re.findall('\\d{6}-\\d{7}',variables)\n",
        "# 이메일주소\n",
        "re.findall('[a-z\\.]*@[a-z\\.]*',variables)"
      ],
      "execution_count": null,
      "outputs": [
        {
          "output_type": "execute_result",
          "data": {
            "text/plain": [
              "['upan@upan.com', 'idontknow@upan.com']"
            ]
          },
          "metadata": {
            "tags": []
          },
          "execution_count": 53
        }
      ]
    },
    {
      "cell_type": "code",
      "metadata": {
        "colab": {
          "base_uri": "https://localhost:8080/"
        },
        "id": "JnWlAhA4YCwt",
        "outputId": "ed9c4f25-653b-46a2-8736-8898e0be9d81"
      },
      "source": [
        "sentence = '나는 오늘 8시에 밥을 먹고 학교에 갔습니다. 학교에는 친구가 있었습니다. 9시부터 수업을 들었어요. 9시는 졸린 시간입니다. '\n",
        "re.findall('[가-힣]*습니다',sentence)"
      ],
      "execution_count": null,
      "outputs": [
        {
          "output_type": "execute_result",
          "data": {
            "text/plain": [
              "['갔습니다', '있었습니다']"
            ]
          },
          "metadata": {
            "tags": []
          },
          "execution_count": 55
        }
      ]
    },
    {
      "cell_type": "code",
      "metadata": {
        "colab": {
          "base_uri": "https://localhost:8080/"
        },
        "id": "8anlnhq0ZaL-",
        "outputId": "5ef7e225-a8ad-40e1-e8ce-a265f840f315"
      },
      "source": [
        "\n"
      ],
      "execution_count": null,
      "outputs": [
        {
          "output_type": "execute_result",
          "data": {
            "text/plain": [
              "['책상', '의자', '친구', '칠판', '선생님']"
            ]
          },
          "metadata": {
            "tags": []
          },
          "execution_count": 65
        }
      ]
    },
    {
      "cell_type": "code",
      "metadata": {
        "colab": {
          "base_uri": "https://localhost:8080/"
        },
        "id": "4XMF8yQSbkyg",
        "outputId": "c36afc86-29ec-4acd-e41e-2cdaae740adb"
      },
      "source": [
        "a_html = '''\n",
        "<li class=\"nav_item\"><a href=\"https://dict.naver.com/\" class=\"nav\" data-clk=\"svc.dic\">사전</a></li>\n",
        "<li class=\"nav_item\"><a href=\"https://news.naver.com/\" class=\"nav\" data-clk=\"svc.news\">뉴스</a></li>\n",
        "<li class=\"nav_item\"><a href=\"https://finance.naver.com/\" class=\"nav\" data-clk=\"svc.stock\">증권</a></li>\n",
        "<li class=\"nav_item\"><a href=\"https://land.naver.com/\" class=\"nav\" data-clk=\"svc.land\">부동산</a></li>\n",
        "<li class=\"nav_item\"><a href=\"https://map.naver.com/\" class=\"nav\" data-clk=\"svc.map\">지도</a></li>\n",
        "<li class=\"nav_item\"><a href=\"https://movie.naver.com/\" class=\"nav\" data-clk=\"svc.movie\">영화</a></li>\n",
        "<li class=\"nav_item\"><a href=\"https://vibe.naver.com/\" class=\"nav\" data-clk=\"svc.vibe\">VIBE</a>\n",
        "<li class=\"nav_item\"><a href=\"https://book.naver.com/\" class=\"nav\" data-clk=\"svc.book\">책</a></li>\n",
        "<li class=\"nav_item\"><a href=\"https://comic.naver.com/\" class=\"nav\" data-clk=\"svc.webtoon\">웹툰</a></li>\n",
        "'''\n",
        "\n",
        "\n"
      ],
      "execution_count": null,
      "outputs": [
        {
          "output_type": "stream",
          "text": [
            "['사전', '뉴스', '증권', '부동산', '지도', '영화', 'VIBE', '책', '웹툰']\n"
          ],
          "name": "stdout"
        }
      ]
    },
    {
      "cell_type": "code",
      "metadata": {
        "colab": {
          "base_uri": "https://localhost:8080/",
          "height": 35
        },
        "id": "zHgLgVsUfjZ6",
        "outputId": "3f86bef2-9612-4a53-bfdd-61e119c95f31"
      },
      "source": [
        "sentence = '나는 오늘 8시에 밥을 먹고 학교에 갔습니다.\\n\\n\\n\\n\\n 학교에는 친구가 있었습니다.\\n\\n\\n\\n\\n\\n 9시부터 수업을 들었어요? 9시는 졸린 시간입니다. '\n",
        "import re\n",
        "#re.findall('\\d시',sentence)\n",
        "re.sub('\\n','',sentence )\n"
      ],
      "execution_count": null,
      "outputs": [
        {
          "output_type": "execute_result",
          "data": {
            "application/vnd.google.colaboratory.intrinsic+json": {
              "type": "string"
            },
            "text/plain": [
              "'나는 오늘 8시에 밥을 먹고 학교에 갔습니다. 학교에는 친구가 있었습니다. 9시부터 수업을 들었어요? 9시는 졸린 시간입니다. '"
            ]
          },
          "metadata": {
            "tags": []
          },
          "execution_count": 88
        }
      ]
    },
    {
      "cell_type": "code",
      "metadata": {
        "colab": {
          "base_uri": "https://localhost:8080/"
        },
        "id": "QorOl2jDhEwW",
        "outputId": "c33b6028-9792-4e64-8657-68903ac55ec6"
      },
      "source": [
        "a_html = '''\n",
        "<li class=\"nav_item\"><a href=\"https://dict.naver.com/\" class=\"nav\" data-clk=\"svc.dic\">사전</a></li>\n",
        "<li class=\"nav_item\"><a href=\"https://news.naver.com/\" class=\"nav\" data-clk=\"svc.news\">뉴스</a></li>\n",
        "<li class=\"nav_item\"><a href=\"https://finance.naver.com/\" class=\"nav\" data-clk=\"svc.stock\">증권</a></li>\n",
        "<li class=\"nav_item\"><a href=\"https://land.naver.com/\" class=\"nav\" data-clk=\"svc.land\">부동산</a></li>\n",
        "<li class=\"nav_item\"><a href=\"https://map.naver.com/\" class=\"nav\" data-clk=\"svc.map\">지도</a></li>\n",
        "<li class=\"nav_item\"><a href=\"https://movie.naver.com/\" class=\"nav\" data-clk=\"svc.movie\">영화</a></li>\n",
        "<li class=\"nav_item\"><a href=\"https://vibe.naver.com/\" class=\"nav\" data-clk=\"svc.vibe\">VIBE</a>\n",
        "<li class=\"nav_item\"><a href=\"https://book.naver.com/\" class=\"nav\" data-clk=\"svc.book\">책</a></li>\n",
        "<li class=\"nav_item\"><a href=\"https://comic.naver.com/\" class=\"nav\" data-clk=\"svc.webtoon\">웹툰</a></li>\n",
        "'''\n",
        "links = re.findall('href=\"[a-z:/\\.]*',a_html)\n",
        "# for i in links:\n",
        "#     print(i[6:])\n",
        "words = re.findall('>[가-힣A-Z]{1,}<',a_html)\n",
        "\n",
        "# for i in words:\n",
        "#     print(i[1:-1])\n",
        "# 리스트 컴프리헨션\n",
        "words = [i[1:-1] for i in words ]\n",
        "print(words)"
      ],
      "execution_count": null,
      "outputs": [
        {
          "output_type": "stream",
          "text": [
            "['사전', '뉴스', '증권', '부동산', '지도', '영화', 'VIBE', '책', '웹툰']\n"
          ],
          "name": "stdout"
        }
      ]
    }
  ]
}